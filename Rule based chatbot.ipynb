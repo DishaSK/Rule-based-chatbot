{
 "cells": [
  {
   "cell_type": "code",
   "execution_count": 1,
   "id": "0df4a7c8",
   "metadata": {},
   "outputs": [],
   "source": [
    "import nltk\n",
    "from nltk.chat.util import Chat,reflections"
   ]
  },
  {
   "cell_type": "code",
   "execution_count": 2,
   "id": "6e144777",
   "metadata": {},
   "outputs": [],
   "source": [
    "pairs =(\n",
    "    \n",
    "    (\"hi|hello|hey\",(\"Hello\",\"Hey there\")),\n",
    "    (\"what is your name\",(\"My name is Manny\", \"I am Manny\")),\n",
    "    (\"who created you\",(\"Creation by Disha\",\"Disha created me today\")),\n",
    "    (\"which is your favourite colour\",(\"red\",\"green\",\"blue\")),\n",
    "    (\"how is the climate today\",(\"very good\",\"wonderful\",\"relaxing\")),\n",
    "    (\"where are you from\",(\"Milky way galaxy\",\"Mars\")),\n",
    "    (\"bye|see ya|tata\",(\"goodbye\",\"Bye , take care\"))\n",
    ")"
   ]
  },
  {
   "cell_type": "code",
   "execution_count": 3,
   "id": "eeb91a97",
   "metadata": {},
   "outputs": [],
   "source": [
    "def chatbot():\n",
    "    print(\"Rule based chatbot\")\n",
    "    \n"
   ]
  },
  {
   "cell_type": "code",
   "execution_count": 4,
   "id": "7692925c",
   "metadata": {},
   "outputs": [],
   "source": [
    "chat=Chat(pairs, reflections)\n",
    "\n"
   ]
  },
  {
   "cell_type": "code",
   "execution_count": null,
   "id": "07fc836b",
   "metadata": {},
   "outputs": [
    {
     "name": "stdout",
     "output_type": "stream",
     "text": [
      ">hey\n",
      "Hey there\n",
      ">what is your name\n",
      "My name is Manny\n",
      ">who created you\n",
      "Creation by Disha\n",
      ">how is the climate today\n",
      "wonderful\n",
      ">see ya\n",
      "goodbye\n"
     ]
    }
   ],
   "source": [
    "chat.converse()\n",
    "if __name__==\"__main__\":\n",
    "    chatbot()"
   ]
  },
  {
   "cell_type": "code",
   "execution_count": null,
   "id": "97bf1c60",
   "metadata": {},
   "outputs": [],
   "source": [
    "\n",
    "  "
   ]
  }
 ],
 "metadata": {
  "kernelspec": {
   "display_name": "Python 3",
   "language": "python",
   "name": "python3"
  },
  "language_info": {
   "codemirror_mode": {
    "name": "ipython",
    "version": 3
   },
   "file_extension": ".py",
   "mimetype": "text/x-python",
   "name": "python",
   "nbconvert_exporter": "python",
   "pygments_lexer": "ipython3",
   "version": "3.8.8"
  }
 },
 "nbformat": 4,
 "nbformat_minor": 5
}
